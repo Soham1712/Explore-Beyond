{
  "cells": [
    {
      "cell_type": "code",
      "execution_count": 1,
      "metadata": {
        "id": "5-VJBFyIZa2M"
      },
      "outputs": [],
      "source": [
        "# !pip install tensorflow\n",
        "# !pip install keras\n",
        "# !pip install sklearn\n",
        "# !pip install theano"
      ]
    },
    {
      "cell_type": "code",
      "execution_count": 2,
      "metadata": {
        "id": "qA_f7tANYSXF"
      },
      "outputs": [
        {
          "name": "stderr",
          "output_type": "stream",
          "text": [
            "Using TensorFlow backend.\n",
            "WARNING (theano.tensor.blas): Using NumPy C-API based implementation for BLAS functions.\n"
          ]
        }
      ],
      "source": [
        "import pandas as pd\n",
        "import numpy as np\n",
        "import os\n",
        "import tensorflow as tf\n",
        "import cv2\n",
        "import random\n",
        "from tensorflow import keras\n",
        "import numpy as np\n",
        "# from tensorflow.keras import layers, Dense, Input, InputLayer, Flatten\n",
        "# from tensorflow.keras.models import Sequential, Model\n",
        "\n",
        "\n",
        "from keras.models import Sequential\n",
        "from keras import layers\n",
        "from keras.layers import Dense,Input, InputLayer, Flatten\n",
        "\n",
        "\n",
        "from  matplotlib import pyplot as plt\n",
        "import matplotlib.image as mpimg\n",
        "%matplotlib inline\n",
        "\n",
        "\n",
        "\n",
        "from keras.layers.core import Dense, Activation, Dropout, Flatten\n",
        "from keras.layers.convolutional import Convolution2D, MaxPooling2D\n",
        "# from keras.optimizers import  adam\n",
        "from tensorflow.keras.optimizers import SGD,RMSprop, Adam\n",
        "\n",
        "from keras.utils import np_utils\n",
        "from sklearn.tree import DecisionTreeClassifier \n",
        "from sklearn import metrics\n",
        "from sklearn.utils import shuffle\n",
        "from sklearn.model_selection import train_test_split\n",
        "import matplotlib.image as mpimg\n",
        "import matplotlib.pyplot as plt\n",
        "import numpy as np\n",
        "import os\n",
        "import cv2\n",
        "import random \n",
        "from numpy import *\n",
        "from PIL import Image\n",
        "import theano"
      ]
    },
    {
      "cell_type": "code",
      "execution_count": 3,
      "metadata": {
        "id": "erQsYw7uVK1c"
      },
      "outputs": [],
      "source": [
        "path_test = \"./Datasets/training-data/\""
      ]
    },
    {
      "cell_type": "code",
      "execution_count": 4,
      "metadata": {
        "id": "w0LNWlbvXDf_"
      },
      "outputs": [],
      "source": [
        "CATEGORIES = ['bright_dune', 'crater','dark_dune','impact_ejecta','slope_streak']\n",
        "# CATEGORIES = ['bright_dune', 'crater','dark_dune','streak']"
      ]
    },
    {
      "cell_type": "code",
      "execution_count": 5,
      "metadata": {
        "id": "1L2GguX6XqpK"
      },
      "outputs": [],
      "source": [
        "training = []\n",
        "\n",
        "def createTrainingData():\n",
        "  for category in CATEGORIES:\n",
        "    path = os.path.join(path_test, category)\n",
        "    class_num = CATEGORIES.index(category)\n",
        "    for img in os.listdir(path):\n",
        "      img_array = cv2.imread(os.path.join(path,img))\n",
        "      new_array = cv2.resize(img_array, (227, 227))\n",
        "      training.append([new_array, class_num])\n",
        "      \n",
        "createTrainingData()"
      ]
    },
    {
      "cell_type": "code",
      "execution_count": 6,
      "metadata": {
        "id": "xdRTN7UKX-zZ"
      },
      "outputs": [],
      "source": [
        "random.shuffle(training)\n",
        "X = []\n",
        "y = []\n",
        "\n",
        "for features, label in training:\n",
        "  X.append(features)\n",
        "  y.append(label)\n",
        "X = np.array(X).reshape(-1, 227, 227, 3)\n",
        "y = np.array(y)"
      ]
    },
    {
      "cell_type": "code",
      "execution_count": 7,
      "metadata": {
        "colab": {
          "base_uri": "https://localhost:8080/"
        },
        "id": "91euNI6cd8Bo",
        "outputId": "5dd7cbd8-59c6-4693-a55d-fd44f0ecaf85"
      },
      "outputs": [
        {
          "data": {
            "text/plain": [
              "(11919, 227, 227, 3)"
            ]
          },
          "execution_count": 7,
          "metadata": {},
          "output_type": "execute_result"
        }
      ],
      "source": [
        "X.shape"
      ]
    },
    {
      "cell_type": "code",
      "execution_count": 8,
      "metadata": {
        "id": "IqumHN-AZBka"
      },
      "outputs": [],
      "source": [
        "X = X.astype('float32')\n",
        "X /= 255"
      ]
    },
    {
      "cell_type": "code",
      "execution_count": 9,
      "metadata": {
        "id": "HJZD_k6JZEah"
      },
      "outputs": [],
      "source": [
        "X_train, X_test, y_train, y_test = train_test_split(X, y, test_size = 0.2, random_state = 4)"
      ]
    },
    {
      "cell_type": "code",
      "execution_count": 10,
      "metadata": {
        "id": "dykeQfgDa25J"
      },
      "outputs": [],
      "source": [
        "batch_size = 20\n",
        "nb_classes = 5\n",
        "nb_epochs = 10\n",
        "img_rows, img_columns = 227, 227\n",
        "img_channel = 3\n",
        "nb_filters = 32\n",
        "nb_pool = 2\n",
        "nb_conv = 3"
      ]
    },
    {
      "cell_type": "code",
      "execution_count": 11,
      "metadata": {
        "id": "-_CUO2XTbeNw"
      },
      "outputs": [],
      "source": [
        "model = tf.keras.Sequential([\n",
        "    tf.keras.layers.Conv2D(64, kernel_size = (3,3), padding='same', activation=tf.nn.relu, input_shape=(227, 227, 3)),\n",
        "    tf.keras.layers.Conv2D(64, kernel_size = (3,3), padding='same', activation=tf.nn.relu),\n",
        "    tf.keras.layers.MaxPooling2D((2, 2), strides=2),\n",
        "\n",
        "    tf.keras.layers.Conv2D(128, kernel_size = (3,3), padding='same', activation=tf.nn.relu),\n",
        "    tf.keras.layers.Conv2D(128, kernel_size = (3,3), padding='same', activation=tf.nn.relu),\n",
        "    tf.keras.layers.MaxPooling2D((2, 2), strides=2),\n",
        "\n",
        "    tf.keras.layers.Conv2D(256, kernel_size = (3,3), padding='same', activation=tf.nn.relu),\n",
        "    tf.keras.layers.Conv2D(256, kernel_size = (3,3), padding='same', activation=tf.nn.relu),\n",
        "    tf.keras.layers.Conv2D(256, kernel_size = (3,3), padding='same', activation=tf.nn.relu),\n",
        "    tf.keras.layers.MaxPooling2D((2, 2), strides=2),\n",
        "\n",
        "    tf.keras.layers.Conv2D(512, kernel_size = (3,3), padding='same', activation=tf.nn.relu),\n",
        "    tf.keras.layers.Conv2D(512, kernel_size = (3,3), padding='same', activation=tf.nn.relu),\n",
        "    tf.keras.layers.Conv2D(512, kernel_size = (3,3), padding='same', activation=tf.nn.relu),\n",
        "    tf.keras.layers.MaxPooling2D((2, 2), strides=2),\n",
        "\n",
        "    tf.keras.layers.Conv2D(512, kernel_size = (3,3), padding='same', activation=tf.nn.relu),\n",
        "    tf.keras.layers.Conv2D(512, kernel_size = (3,3), padding='same', activation=tf.nn.relu),\n",
        "    tf.keras.layers.Conv2D(512, kernel_size = (3,3), padding='same', activation=tf.nn.relu),\n",
        "    tf.keras.layers.MaxPooling2D((2, 2), strides=2),\n",
        "\n",
        "    tf.keras.layers.Flatten(),\n",
        "    tf.keras.layers.Dense(4096, activation=tf.nn.relu),\n",
        "    tf.keras.layers.Dense(4096, activation=tf.nn.relu),\n",
        "    tf.keras.layers.Dense(5,  activation=tf.nn.softmax)\n",
        "])\n"
      ]
    },
    {
      "cell_type": "code",
      "execution_count": 12,
      "metadata": {
        "id": "54j1N9ENbnXZ"
      },
      "outputs": [],
      "source": [
        "model.compile(optimizer='adam',loss='sparse_categorical_crossentropy',metrics=['accuracy'])"
      ]
    },
    {
      "cell_type": "code",
      "execution_count": null,
      "metadata": {
        "id": "SJ-y8Psbb9Vs"
      },
      "outputs": [],
      "source": [
        "model.fit(X_train, y_train, batch_size = batch_size, epochs = nb_epochs, verbose = 1, validation_data = (X_test, y_test))"
      ]
    },
    {
      "cell_type": "code",
      "execution_count": null,
      "metadata": {
        "id": "F2G7LnR3kGQy"
      },
      "outputs": [],
      "source": [
        "def findClass(image_path):\n",
        "    image_1 = cv2.imread(image_path)\n",
        "    image_1 = cv2.resize(image_1, (227, 227))\n",
        "    np.array(image_1).reshape(-1, 227, 227, 3)\n",
        "    image_1 = image_1.astype('float32')\n",
        "    image_1 /= 255 \n",
        "    prediction = model.predict(np.array([image_1], np.float32))\n",
        "    print(prediction)\n",
        "    return CATEGORIES[np.argmax(prediction)]"
      ]
    },
    {
      "cell_type": "code",
      "execution_count": null,
      "metadata": {},
      "outputs": [],
      "source": [
        "testData = [\n",
        "    r'./Datasets/test-data/bright_dune/ESP_016576_2570_RED-0061.jpg', \n",
        "    r'./Datasets/test-data/dark_dune/ESP_018334_2600_RED-0501.jpg',\n",
        "    r'./Datasets/test-data/streak/ESP_011289_1950_RED-0067.jpg', \n",
        "    r'./Datasets/hirise-map-proj-v3_2/slope_streak/ESP_011289_1950_RED-0230.jpg',\n",
        "    r'./Datasets/hirise-map-proj-v3_2/crater/ESP_011425_1775_RED-0030-r90.jpg'\n",
        "]\n",
        "\n",
        "# findClass(r'./Datasets/test-data/bright_dune/ESP_016576_2570_RED-0061.jpg')\n",
        "\n",
        "for i in testData:\n",
        "    print(findClass(i))\n",
        "\n",
        "# CATEGORIES = ['bright_dune', 'crater','dark_dune','impact','streak']"
      ]
    },
    {
      "cell_type": "code",
      "execution_count": null,
      "metadata": {},
      "outputs": [],
      "source": [
        "score = model.evaluate(X_test, y_test, verbose = 0 )\n",
        "print(\"Test Loss: \", score[0])\n",
        "print(\"Test Accuracy: \", score[1])"
      ]
    },
    {
      "cell_type": "code",
      "execution_count": null,
      "metadata": {},
      "outputs": [],
      "source": [
        "# creates a HDF5 file 'my_model.h5'\n",
        "model.save('models/cnn4.h5')\n",
        "# pickle.dump( model, open(\"classification_model_v1.pickle\", \"wb\" ))"
      ]
    }
  ],
  "metadata": {
    "accelerator": "GPU",
    "colab": {
      "collapsed_sections": [],
      "provenance": []
    },
    "kernelspec": {
      "display_name": "Python 3.7.11 ('machine_learning')",
      "language": "python",
      "name": "python3"
    },
    "language_info": {
      "codemirror_mode": {
        "name": "ipython",
        "version": 3
      },
      "file_extension": ".py",
      "mimetype": "text/x-python",
      "name": "python",
      "nbconvert_exporter": "python",
      "pygments_lexer": "ipython3",
      "version": "3.7.13 (default, Oct 19 2022, 10:19:43) [MSC v.1916 64 bit (AMD64)]"
    },
    "vscode": {
      "interpreter": {
        "hash": "72fd977071d8a325c89946734ebdd84ca04cd1ddcd4553ef7fac0759bd651065"
      }
    }
  },
  "nbformat": 4,
  "nbformat_minor": 0
}
