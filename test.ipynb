{
 "cells": [
  {
   "cell_type": "code",
   "execution_count": 2,
   "metadata": {},
   "outputs": [],
   "source": [
    "from tensorflow import keras\n",
    "import cv2\n",
    "import numpy as np\n",
    "import os"
   ]
  },
  {
   "cell_type": "code",
   "execution_count": 3,
   "metadata": {},
   "outputs": [],
   "source": [
    "model = keras.models.load_model(r'./models/cnn.h5')"
   ]
  },
  {
   "cell_type": "code",
   "execution_count": 21,
   "metadata": {},
   "outputs": [],
   "source": [
    "CATEGORIES = ['bright_dune', 'crater','dark_dune','impact_ejecta','slope_streak']\n",
    "# CATEGORIES = ['bright_dune', 'crater','dark_dune','slope_streak', 'other']"
   ]
  },
  {
   "cell_type": "code",
   "execution_count": 19,
   "metadata": {},
   "outputs": [],
   "source": [
    "def findClass(image_path):\n",
    "    image_1 = cv2.imread(image_path)\n",
    "    image_1 = cv2.resize(image_1, (227, 227))\n",
    "    np.array(image_1).reshape(-1, 227, 227, 3)\n",
    "    image_1 = image_1.astype('float32')\n",
    "    image_1 /= 255 \n",
    "    prediction = model.predict(np.array([image_1], np.float32))\n",
    "    # print(prediction)\n",
    "    return CATEGORIES[np.argmax(prediction)]"
   ]
  },
  {
   "cell_type": "code",
   "execution_count": 22,
   "metadata": {},
   "outputs": [
    {
     "name": "stdout",
     "output_type": "stream",
     "text": [
      "Accuracy for bright_dune class : 0.26282051282051283\n",
      "Accuracy for crater class : 0.7100271002710027\n",
      "Accuracy for dark_dune class : 0.2622549019607843\n",
      "Accuracy for impact_ejecta class : 0.8764478764478765\n",
      "Accuracy for slope_streak class : 0.6756756756756757\n"
     ]
    }
   ],
   "source": [
    "testData = [\n",
    "    r'./Datasets/test-data/bright_dune/ESP_016576_2570_RED-0061.jpg', \n",
    "    r'./Datasets/test-data/dark_dune/ESP_018334_2600_RED-0501.jpg',\n",
    "    r'./Datasets/test-data/streak/ESP_011289_1950_RED-0067.jpg', \n",
    "    r'./Datasets/hirise-map-proj-v3_2/slope_streak/ESP_011289_1950_RED-0230.jpg',\n",
    "    r'./Datasets/hirise-map-proj-v3_2/crater/ESP_011425_1775_RED-0030-r90.jpg'\n",
    "    ]\n",
    "\n",
    "# findClass(r'./Datasets/test-data/bright_dune/ESP_016576_2570_RED-0061.jpg')\n",
    "\n",
    "for cat in CATEGORIES:\n",
    "    correct = 0\n",
    "    wrong = 0\n",
    "    for img in os.listdir(f'./Datasets/test-data/{cat}'):\n",
    "        path = os.path.join(f'./Datasets/test-data/{cat}', img)\n",
    "        output = findClass(path)\n",
    "        if output == cat:\n",
    "            correct += 1\n",
    "        else:\n",
    "            wrong += 1\n",
    "    print(f\"Accuracy for {cat} class : {correct / (correct + wrong)}\")"
   ]
  }
 ],
 "metadata": {
  "kernelspec": {
   "display_name": "Python 3.7.11 ('machine_learning')",
   "language": "python",
   "name": "python3"
  },
  "language_info": {
   "codemirror_mode": {
    "name": "ipython",
    "version": 3
   },
   "file_extension": ".py",
   "mimetype": "text/x-python",
   "name": "python",
   "nbconvert_exporter": "python",
   "pygments_lexer": "ipython3",
   "version": "3.7.11"
  },
  "orig_nbformat": 4,
  "vscode": {
   "interpreter": {
    "hash": "72fd977071d8a325c89946734ebdd84ca04cd1ddcd4553ef7fac0759bd651065"
   }
  }
 },
 "nbformat": 4,
 "nbformat_minor": 2
}
