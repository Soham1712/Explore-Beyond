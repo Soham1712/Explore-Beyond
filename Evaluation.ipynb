{
  "nbformat": 4,
  "nbformat_minor": 0,
  "metadata": {
    "colab": {
      "provenance": []
    },
    "kernelspec": {
      "name": "python3",
      "display_name": "Python 3"
    },
    "language_info": {
      "name": "python"
    }
  },
  "cells": [
    {
      "cell_type": "code",
      "source": [
        "y_pred = model.predict(X_test)"
      ],
      "metadata": {
        "id": "TE3l0TKf8kD3"
      },
      "execution_count": null,
      "outputs": []
    },
    {
      "cell_type": "markdown",
      "source": [
        "AUC-ROC"
      ],
      "metadata": {
        "id": "Epp3gJIb5B8O"
      }
    },
    {
      "cell_type": "code",
      "execution_count": null,
      "metadata": {
        "id": "AcUnT4Dy42E0"
      },
      "outputs": [],
      "source": [
        "# Importing all necessary libraries\n",
        "from sklearn.metrics import roc_curve, auc\n",
        "\n",
        "class_probabilities = model.predict_proba(X_test)\n",
        "preds = class_probabilities[:, 1]\n",
        "\n",
        "fpr, tpr, threshold = roc_curve(y_test, y_pred)\n",
        "roc_auc = auc(fpr, tpr)\n",
        "\n",
        "# Printing AUC\n",
        "print(f\"AUC for our classifier is: {roc_auc}\")\n",
        "\n",
        "# Plotting the ROC\n",
        "plt.title('Receiver Operating Characteristic')\n",
        "plt.plot(fpr, tpr, 'b', label = 'AUC = %0.2f' % roc_auc)\n",
        "plt.legend(loc = 'lower right')\n",
        "plt.plot([0, 1], [0, 1],'r--')\n",
        "plt.xlim([0, 1])\n",
        "plt.ylim([0, 1])\n",
        "plt.ylabel('True Positive Rate')\n",
        "plt.xlabel('False Positive Rate')\n",
        "plt.show()"
      ]
    },
    {
      "cell_type": "code",
      "source": [
        "roc_auc_dict = roc_auc_score_multiclass(y_test, y_pred)\n",
        "roc_auc_dict"
      ],
      "metadata": {
        "id": "7xXUttzy5AwV"
      },
      "execution_count": null,
      "outputs": []
    },
    {
      "cell_type": "markdown",
      "source": [
        "F1 Score\n"
      ],
      "metadata": {
        "id": "YVSV0mdT5G8n"
      }
    },
    {
      "cell_type": "code",
      "source": [
        "from sklearn.metrics import f1_score\n",
        "\n",
        "# Calculating the F1 score of classifier\n",
        "print(f\"F1 Score of the classifier is: {f1_score(y_test, y_pred)}\")"
      ],
      "metadata": {
        "id": "RjLs9gQS5YQC"
      },
      "execution_count": null,
      "outputs": []
    },
    {
      "cell_type": "markdown",
      "source": [
        "Confusion Matrix\n"
      ],
      "metadata": {
        "id": "wqnNtZ9257lr"
      }
    },
    {
      "cell_type": "code",
      "source": [
        "plt.figure(figsize = (18,8))\n",
        "sns.heatmap(metrics.confusion_matrix(y_test, y_pred), annot = True, xticklabels = y_test.unique(), yticklabels = y_test.unique(), cmap = 'summer')\n",
        "plt.xlabel('Predicted Labels')\n",
        "plt.ylabel('True Labels')\n",
        "plt.show()"
      ],
      "metadata": {
        "id": "wyIKSH0J5biO"
      },
      "execution_count": null,
      "outputs": []
    },
    {
      "cell_type": "markdown",
      "source": [
        "Precision"
      ],
      "metadata": {
        "id": "XwugK0o36l0z"
      }
    },
    {
      "cell_type": "code",
      "source": [
        "# Importing all necessary libraries\n",
        "from sklearn.metrics import precision_score\n",
        "\n",
        "# Calculating the precision score of classifier\n",
        "print(f\"Precision Score of the classifier is: {precision_score(y_test, y_pred)}\")"
      ],
      "metadata": {
        "id": "mXaI8J3k6m1H"
      },
      "execution_count": null,
      "outputs": []
    },
    {
      "cell_type": "markdown",
      "source": [
        "Recall"
      ],
      "metadata": {
        "id": "Ii2ZuKzT6rn0"
      }
    },
    {
      "cell_type": "code",
      "source": [
        "from sklearn.metrics import recall_score\n",
        "\n",
        "# Calculating the recall score of classifier\n",
        "print(f\"Recall Score of the classifier is: {recall_score(y_test, predictions)}\")"
      ],
      "metadata": {
        "id": "WSayxM8a6sYl"
      },
      "execution_count": null,
      "outputs": []
    }
  ]
}