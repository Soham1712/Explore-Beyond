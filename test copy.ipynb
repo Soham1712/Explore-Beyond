{
 "cells": [
  {
   "cell_type": "code",
   "execution_count": 1,
   "metadata": {},
   "outputs": [],
   "source": [
    "from tensorflow import keras\n",
    "import cv2\n",
    "import numpy as np\n",
    "import os"
   ]
  },
  {
   "cell_type": "code",
   "execution_count": 2,
   "metadata": {},
   "outputs": [],
   "source": [
    "model = keras.models.load_model(r'./models/cnn2.h5')"
   ]
  },
  {
   "cell_type": "code",
   "execution_count": 3,
   "metadata": {},
   "outputs": [],
   "source": [
    "CATEGORIES = ['bright_dune', 'crater','dark_dune','impact_ejecta','slope_streak']\n",
    "# CATEGORIES = ['bright_dune', 'crater','dark_dune','slope_streak', 'other']"
   ]
  },
  {
   "cell_type": "code",
   "execution_count": 9,
   "metadata": {},
   "outputs": [],
   "source": [
    "def findClass(image_path):\n",
    "    image_1 = cv2.imread(image_path)\n",
    "    image_1 = cv2.resize(image_1, (227, 227))\n",
    "    np.array(image_1).reshape(-1, 227, 227, 3)\n",
    "    image_1 = image_1.astype('float32')\n",
    "    image_1 /= 255 \n",
    "    prediction = model.predict(np.array([image_1], np.float32))\n",
    "    print(prediction)\n",
    "    # print(prediction)\n",
    "    return CATEGORIES[np.argmax(prediction)]"
   ]
  },
  {
   "cell_type": "code",
   "execution_count": 10,
   "metadata": {},
   "outputs": [
    {
     "name": "stdout",
     "output_type": "stream",
     "text": [
      "[[6.5926933e-01 1.4344084e-01 2.6650603e-05 2.2937864e-04 1.9703378e-01]]\n",
      "bright_dune\n",
      "[[3.9293582e-07 2.9123452e-01 7.0737976e-01 7.1955677e-05 1.3133792e-03]]\n",
      "dark_dune\n",
      "[[1.4629505e-04 1.1112979e-02 1.7007221e-02 1.7971309e-03 9.6993637e-01]]\n",
      "slope_streak\n",
      "[[3.6291374e-04 1.7182851e-02 1.6795844e-03 1.0825002e-05 9.8076379e-01]]\n",
      "slope_streak\n",
      "[[4.3498568e-07 2.7854249e-01 6.9778657e-01 7.0559377e-05 2.3599993e-02]]\n",
      "dark_dune\n",
      "[[9.9999654e-01 3.9063698e-07 5.2071811e-14 2.3741409e-06 6.8934798e-07]]\n",
      "bright_dune\n"
     ]
    }
   ],
   "source": [
    "testData = [\n",
    "    r'./Datasets/test-data/bright_dune/ESP_016576_2570_RED-0061.jpg', \n",
    "    r'./Datasets/test-data/dark_dune/ESP_018334_2600_RED-0501.jpg',\n",
    "    r'./Datasets/test-data/slope_streak/ESP_011289_1950_RED-0067.jpg', \n",
    "    r'./Datasets/hirise-map-proj-v3_2/slope_streak/ESP_011289_1950_RED-0230.jpg',\n",
    "    r'./Datasets/hirise-map-proj-v3_2/crater/ESP_011425_1775_RED-0030-r90.jpg',\n",
    "]\n",
    "\n",
    "# findClass(r'./Datasets/test-data/bright_dune/ESP_016576_2570_RED-0061.jpg')\n",
    "\n",
    "for i in testData:\n",
    "    print(findClass(i))\n",
    "    "
   ]
  },
  {
   "cell_type": "code",
   "execution_count": null,
   "metadata": {},
   "outputs": [],
   "source": [
    "for cat in CATEGORIES:\n",
    "    correct = 0\n",
    "    wrong = 0\n",
    "    for img in os.listdir(f'./Datasets/test-data/{cat}'):\n",
    "        path = os.path.join(f'./Datasets/test-data/{cat}', img)\n",
    "        output = findClass(path)\n",
    "        if output == cat:\n",
    "            correct += 1\n",
    "        else:\n",
    "            wrong += 1\n",
    "    print(f\"Accuracy for {cat} class : {correct / (correct + wrong)}\")"
   ]
  },
  {
   "cell_type": "code",
   "execution_count": 7,
   "metadata": {},
   "outputs": [
    {
     "data": {
      "text/plain": [
       "'crater'"
      ]
     },
     "execution_count": 7,
     "metadata": {},
     "output_type": "execute_result"
    }
   ],
   "source": [
    "findClass(\"./Datasets/test2.jpg\")"
   ]
  },
  {
   "cell_type": "code",
   "execution_count": null,
   "metadata": {},
   "outputs": [],
   "source": []
  }
 ],
 "metadata": {
  "kernelspec": {
   "display_name": "Python 3.7.11 ('machine_learning')",
   "language": "python",
   "name": "python3"
  },
  "language_info": {
   "codemirror_mode": {
    "name": "ipython",
    "version": 3
   },
   "file_extension": ".py",
   "mimetype": "text/x-python",
   "name": "python",
   "nbconvert_exporter": "python",
   "pygments_lexer": "ipython3",
   "version": "3.7.13"
  },
  "orig_nbformat": 4,
  "vscode": {
   "interpreter": {
    "hash": "72fd977071d8a325c89946734ebdd84ca04cd1ddcd4553ef7fac0759bd651065"
   }
  }
 },
 "nbformat": 4,
 "nbformat_minor": 2
}
