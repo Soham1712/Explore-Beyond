{
  "cells": [
    {
      "cell_type": "code",
      "execution_count": 1,
      "metadata": {
        "id": "5-VJBFyIZa2M"
      },
      "outputs": [],
      "source": [
        "# !pip install tensorflow\n",
        "# !pip install keras"
      ]
    },
    {
      "cell_type": "code",
      "execution_count": 60,
      "metadata": {
        "id": "qA_f7tANYSXF"
      },
      "outputs": [],
      "source": [
        "import pandas as pd\n",
        "import numpy as np\n",
        "import os\n",
        "import tensorflow as tf\n",
        "import cv2\n",
        "import random\n",
        "from tensorflow import keras\n",
        "import numpy as np\n",
        "# from tensorflow.keras import layers, Dense, Input, InputLayer, Flatten\n",
        "# from tensorflow.keras.models import Sequential, Model\n",
        "\n",
        "from keras import layers\n",
        "from keras.layers import Dense,Input, InputLayer, Flatten\n",
        "\n",
        "\n",
        "from  matplotlib import pyplot as plt\n",
        "import matplotlib.image as mpimg\n",
        "%matplotlib inline"
      ]
    },
    {
      "cell_type": "code",
      "execution_count": 61,
      "metadata": {
        "id": "9YblvVbxZCCG"
      },
      "outputs": [],
      "source": [
        "# img_folder=r'/content/drive/MyDrive/Major Project/Full Dataset'\n",
        "img_folder = r'./Datasets/Test/'"
      ]
    },
    {
      "cell_type": "code",
      "execution_count": 62,
      "metadata": {},
      "outputs": [],
      "source": [
        "# image = cv2.imread(r'./Datasets/Test/bright_dune/ESP_016576_2570_RED-0003.jpg')\n",
        "# image = np.array(image)\n",
        "# image = image.astype('float32')\n",
        "# image /= 255\n",
        "# print(image.shape)"
      ]
    },
    {
      "cell_type": "code",
      "execution_count": null,
      "metadata": {
        "colab": {
          "base_uri": "https://localhost:8080/",
          "height": 357
        },
        "id": "r4JhcwAoeTiV",
        "outputId": "766d2e28-ee28-48b3-8e04-afb3ffa39ca5"
      },
      "outputs": [],
      "source": [
        "def create_dataset(img_folder):\n",
        "\n",
        "    img_data_array = list()\n",
        "    class_name=[]\n",
        "    \n",
        "    for dir1 in os.listdir(img_folder):\n",
        "        for file in os.listdir(os.path.join(img_folder, dir1)):\n",
        "            image_path= os.path.join(img_folder, dir1,  file)\n",
        "            print(image_path)\n",
        "            image = cv2.imread(image_path)\n",
        "            image = np.array(image)\n",
        "            image = image.astype('float32')\n",
        "            image /= 255 \n",
        "            img_data_array.append(image)\n",
        "            class_name.append(dir1)\n",
        "            print(len(class_name))\n",
        "    return img_data_array, class_name\n",
        "\n",
        "# extract the image array and class name\n",
        "img_data, class_name = create_dataset(img_folder)"
      ]
    },
    {
      "cell_type": "code",
      "execution_count": 64,
      "metadata": {
        "colab": {
          "base_uri": "https://localhost:8080/"
        },
        "id": "AlDdib6fheHL",
        "outputId": "7d225827-2af7-46ee-e0d8-c2ba54515184"
      },
      "outputs": [
        {
          "data": {
            "text/plain": [
              "{'bright_dune': 0, 'crater': 1, 'dark_dune': 2, 'streak': 3}"
            ]
          },
          "execution_count": 64,
          "metadata": {},
          "output_type": "execute_result"
        }
      ],
      "source": [
        "target_dict={k: v for v, k in enumerate(np.unique(class_name))}\n",
        "target_dict"
      ]
    },
    {
      "cell_type": "code",
      "execution_count": 65,
      "metadata": {
        "id": "1MORsttnkyx8"
      },
      "outputs": [],
      "source": [
        "target_val =  [target_dict[class_name[i]] for i in range(len(class_name))]"
      ]
    },
    {
      "cell_type": "code",
      "execution_count": 66,
      "metadata": {},
      "outputs": [
        {
          "name": "stdout",
          "output_type": "stream",
          "text": [
            "970 970\n"
          ]
        }
      ],
      "source": [
        "print(len(target_val), len(img_data))"
      ]
    },
    {
      "cell_type": "code",
      "execution_count": 67,
      "metadata": {
        "id": "Br9yNCEKpF1U"
      },
      "outputs": [],
      "source": [
        "model=tf.keras.Sequential(\n",
        "        [\n",
        "            tf.keras.layers.InputLayer(input_shape=(227,227, 3)),\n",
        "            tf.keras.layers.Conv2D(filters=32, kernel_size=3, strides=(2, 2), activation='relu'),\n",
        "            tf.keras.layers.Conv2D(filters=64, kernel_size=3, strides=(2, 2), activation='relu'),\n",
        "            tf.keras.layers.Flatten(),\n",
        "            tf.keras.layers.Dense(5)\n",
        "        ])"
      ]
    },
    {
      "cell_type": "code",
      "execution_count": 68,
      "metadata": {
        "id": "m8KgdeAgpMk9"
      },
      "outputs": [],
      "source": [
        "model.compile(optimizer='rmsprop', loss='sparse_categorical_crossentropy', metrics=['accuracy'])"
      ]
    },
    {
      "cell_type": "code",
      "execution_count": 69,
      "metadata": {
        "id": "_IH_XWVhpcoG"
      },
      "outputs": [
        {
          "name": "stdout",
          "output_type": "stream",
          "text": [
            "Train on 970 samples\n",
            "Epoch 1/15\n",
            "970/970 [==============================] - 2s 2ms/sample - loss: 9.4285 - accuracy: 0.4082\n",
            "Epoch 2/15\n",
            "970/970 [==============================] - 1s 857us/sample - loss: 9.3385 - accuracy: 0.4206\n",
            "Epoch 3/15\n",
            "970/970 [==============================] - 1s 858us/sample - loss: 9.3385 - accuracy: 0.4206\n",
            "Epoch 4/15\n",
            "970/970 [==============================] - 1s 872us/sample - loss: 9.3385 - accuracy: 0.4206\n",
            "Epoch 5/15\n",
            "970/970 [==============================] - 1s 868us/sample - loss: 9.3385 - accuracy: 0.4206\n",
            "Epoch 6/15\n",
            "970/970 [==============================] - 1s 878us/sample - loss: 9.3385 - accuracy: 0.4206\n",
            "Epoch 7/15\n",
            "970/970 [==============================] - 1s 854us/sample - loss: 9.3385 - accuracy: 0.4206\n",
            "Epoch 8/15\n",
            "970/970 [==============================] - 1s 854us/sample - loss: 9.3385 - accuracy: 0.4206\n",
            "Epoch 9/15\n",
            "970/970 [==============================] - 1s 876us/sample - loss: 9.3385 - accuracy: 0.4206\n",
            "Epoch 10/15\n",
            "970/970 [==============================] - 1s 855us/sample - loss: 9.3385 - accuracy: 0.4206\n",
            "Epoch 11/15\n",
            "970/970 [==============================] - 1s 844us/sample - loss: 9.3385 - accuracy: 0.4206\n",
            "Epoch 12/15\n",
            "970/970 [==============================] - 1s 855us/sample - loss: 9.3385 - accuracy: 0.4206\n",
            "Epoch 13/15\n",
            "970/970 [==============================] - 1s 876us/sample - loss: 9.3385 - accuracy: 0.4206\n",
            "Epoch 14/15\n",
            "970/970 [==============================] - 1s 881us/sample - loss: 9.3385 - accuracy: 0.4206\n",
            "Epoch 15/15\n",
            "970/970 [==============================] - 1s 867us/sample - loss: 9.3385 - accuracy: 0.4206\n"
          ]
        }
      ],
      "source": [
        "history = model.fit(x=np.array(img_data, np.float32), y=np.array(list(map(int,target_val)), np.float32), epochs=15)"
      ]
    },
    {
      "cell_type": "code",
      "execution_count": 70,
      "metadata": {},
      "outputs": [],
      "source": [
        "def findClass(image_path):\n",
        "    image_1 = cv2.imread(image_path)\n",
        "    image_1 = np.array(image_1)\n",
        "    image_1 = image_1.astype('float32')\n",
        "    image_1 /= 255 \n",
        "    prediction = model.predict(np.array([image_1], np.float32))\n",
        "    print(prediction)\n",
        "    return np.argmin(prediction)"
      ]
    },
    {
      "cell_type": "code",
      "execution_count": 74,
      "metadata": {},
      "outputs": [
        {
          "name": "stdout",
          "output_type": "stream",
          "text": [
            "[[-47.79378  -47.461697  44.052372 -49.08728  -49.16688 ]]\n"
          ]
        },
        {
          "data": {
            "text/plain": [
              "4"
            ]
          },
          "execution_count": 74,
          "metadata": {},
          "output_type": "execute_result"
        }
      ],
      "source": [
        "findClass(r'./Datasets/Test/bright_dune/ESP_016576_2570_RED-0061.jpg')\n",
        "# findClass(r'./Datasets/Test/dark_dune/ESP_018334_2600_RED-0501.jpg')\n",
        "# findClass(r'./Datasets/Test/streak/ESP_011289_1950_RED-0067.jpg')\n",
        "# {'bright_dune': 0, 'crater': 1, 'dark_dune': 2, 'other': 3, 'streak': 4}"
      ]
    },
    {
      "cell_type": "code",
      "execution_count": null,
      "metadata": {},
      "outputs": [],
      "source": []
    }
  ],
  "metadata": {
    "accelerator": "GPU",
    "colab": {
      "collapsed_sections": [],
      "provenance": []
    },
    "kernelspec": {
      "display_name": "Python 3.7.11 ('machine_learning')",
      "language": "python",
      "name": "python3"
    },
    "language_info": {
      "codemirror_mode": {
        "name": "ipython",
        "version": 3
      },
      "file_extension": ".py",
      "mimetype": "text/x-python",
      "name": "python",
      "nbconvert_exporter": "python",
      "pygments_lexer": "ipython3",
      "version": "3.7.11"
    },
    "vscode": {
      "interpreter": {
        "hash": "72fd977071d8a325c89946734ebdd84ca04cd1ddcd4553ef7fac0759bd651065"
      }
    }
  },
  "nbformat": 4,
  "nbformat_minor": 0
}
