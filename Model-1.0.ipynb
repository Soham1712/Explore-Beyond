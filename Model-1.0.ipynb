{
  "cells": [
    {
      "cell_type": "code",
      "execution_count": 1,
      "metadata": {
        "id": "5-VJBFyIZa2M"
      },
      "outputs": [],
      "source": [
        "# !pip install tensorflow\n",
        "# !pip install keras"
      ]
    },
    {
      "cell_type": "code",
      "execution_count": 2,
      "metadata": {
        "id": "qA_f7tANYSXF"
      },
      "outputs": [
        {
          "name": "stderr",
          "output_type": "stream",
          "text": [
            "Using TensorFlow backend.\n"
          ]
        }
      ],
      "source": [
        "import pandas as pd\n",
        "import numpy as np\n",
        "import os\n",
        "import tensorflow as tf\n",
        "import cv2\n",
        "import random\n",
        "from tensorflow import keras\n",
        "import numpy as np\n",
        "# from tensorflow.keras import layers, Dense, Input, InputLayer, Flatten\n",
        "# from tensorflow.keras.models import Sequential, Model\n",
        "\n",
        "from keras import layers\n",
        "from keras.layers import Dense,Input, InputLayer, Flatten\n",
        "\n",
        "\n",
        "from  matplotlib import pyplot as plt\n",
        "import matplotlib.image as mpimg\n",
        "%matplotlib inline"
      ]
    },
    {
      "cell_type": "code",
      "execution_count": 3,
      "metadata": {
        "id": "9YblvVbxZCCG"
      },
      "outputs": [],
      "source": [
        "# img_folder=r'/content/drive/MyDrive/Major Project/Full Dataset'\n",
        "img_folder = r'./Datasets/training-data/'"
      ]
    },
    {
      "cell_type": "code",
      "execution_count": 4,
      "metadata": {},
      "outputs": [],
      "source": [
        "# image = cv2.imread(r'./Datasets/Test/bright_dune/ESP_016576_2570_RED-0003.jpg')\n",
        "# image = np.array(image)\n",
        "# image = image.astype('float32')\n",
        "# image /= 255\n",
        "# print(image.shape)"
      ]
    },
    {
      "cell_type": "code",
      "execution_count": null,
      "metadata": {
        "colab": {
          "base_uri": "https://localhost:8080/",
          "height": 357
        },
        "id": "r4JhcwAoeTiV",
        "outputId": "766d2e28-ee28-48b3-8e04-afb3ffa39ca5"
      },
      "outputs": [],
      "source": [
        "def create_dataset(img_folder):\n",
        "\n",
        "    img_data_array = list()\n",
        "    class_name=[]\n",
        "    \n",
        "    for dir1 in os.listdir(img_folder):\n",
        "        for file in os.listdir(os.path.join(img_folder, dir1)):\n",
        "            image_path= os.path.join(img_folder, dir1,  file)\n",
        "            image = cv2.imread(image_path)\n",
        "            image = np.array(image)\n",
        "            image = image.astype('float32')\n",
        "            image /= 255 \n",
        "            img_data_array.append(image)\n",
        "            class_name.append(dir1)\n",
        "            print(len(class_name))\n",
        "    return img_data_array, class_name\n",
        "\n",
        "# extract the image array and class name\n",
        "img_data, class_name = create_dataset(img_folder)"
      ]
    },
    {
      "cell_type": "code",
      "execution_count": 6,
      "metadata": {
        "colab": {
          "base_uri": "https://localhost:8080/"
        },
        "id": "AlDdib6fheHL",
        "outputId": "7d225827-2af7-46ee-e0d8-c2ba54515184"
      },
      "outputs": [
        {
          "data": {
            "text/plain": [
              "{'bright_dune': 0,\n",
              " 'crater': 1,\n",
              " 'dark_dune': 2,\n",
              " 'impact_ejecta': 3,\n",
              " 'slope_streak': 4}"
            ]
          },
          "execution_count": 6,
          "metadata": {},
          "output_type": "execute_result"
        }
      ],
      "source": [
        "target_dict={k: v for v, k in enumerate(np.unique(class_name))}\n",
        "target_dict"
      ]
    },
    {
      "cell_type": "code",
      "execution_count": 7,
      "metadata": {
        "id": "1MORsttnkyx8"
      },
      "outputs": [],
      "source": [
        "target_val =  [target_dict[class_name[i]] for i in range(len(class_name))]"
      ]
    },
    {
      "cell_type": "code",
      "execution_count": 8,
      "metadata": {},
      "outputs": [
        {
          "name": "stdout",
          "output_type": "stream",
          "text": [
            "11919 11919\n"
          ]
        }
      ],
      "source": [
        "print(len(target_val), len(img_data))"
      ]
    },
    {
      "cell_type": "code",
      "execution_count": 9,
      "metadata": {
        "id": "Br9yNCEKpF1U"
      },
      "outputs": [],
      "source": [
        "model=tf.keras.Sequential(\n",
        "        [\n",
        "            tf.keras.layers.InputLayer(input_shape=(227,227, 3)),\n",
        "            tf.keras.layers.Conv2D(filters=32, kernel_size=3, strides=(2, 2), activation='relu'),\n",
        "            tf.keras.layers.Conv2D(filters=64, kernel_size=3, strides=(2, 2), activation='relu'),\n",
        "            tf.keras.layers.Flatten(),\n",
        "            tf.keras.layers.Dense(5)\n",
        "        ])"
      ]
    },
    {
      "cell_type": "code",
      "execution_count": 10,
      "metadata": {
        "id": "m8KgdeAgpMk9"
      },
      "outputs": [],
      "source": [
        "model.compile(optimizer='rmsprop', loss='sparse_categorical_crossentropy', metrics=['accuracy'])"
      ]
    },
    {
      "cell_type": "code",
      "execution_count": 11,
      "metadata": {
        "id": "_IH_XWVhpcoG"
      },
      "outputs": [
        {
          "name": "stdout",
          "output_type": "stream",
          "text": [
            "Train on 11919 samples\n",
            "Epoch 1/15\n",
            "11919/11919 [==============================] - 20s 2ms/sample - loss: 5.2658 - accuracy: 0.1381\n",
            "Epoch 2/15\n",
            "11919/11919 [==============================] - 11s 895us/sample - loss: 4.9987 - accuracy: 0.1030\n",
            "Epoch 3/15\n",
            "11919/11919 [==============================] - 11s 947us/sample - loss: 4.9987 - accuracy: 0.1030\n",
            "Epoch 4/15\n",
            "11919/11919 [==============================] - 12s 978us/sample - loss: 4.9987 - accuracy: 0.1030\n",
            "Epoch 5/15\n",
            "11919/11919 [==============================] - 11s 938us/sample - loss: 4.9987 - accuracy: 0.1030\n",
            "Epoch 6/15\n",
            "11919/11919 [==============================] - 11s 942us/sample - loss: 4.9987 - accuracy: 0.1030\n",
            "Epoch 7/15\n",
            "11919/11919 [==============================] - 12s 1ms/sample - loss: 4.9987 - accuracy: 0.1030\n",
            "Epoch 8/15\n",
            "11919/11919 [==============================] - 12s 1ms/sample - loss: 4.9987 - accuracy: 0.1030\n",
            "Epoch 9/15\n",
            "11919/11919 [==============================] - 11s 885us/sample - loss: 4.9987 - accuracy: 0.1030\n",
            "Epoch 10/15\n",
            "11919/11919 [==============================] - 11s 932us/sample - loss: 4.9987 - accuracy: 0.1030\n",
            "Epoch 11/15\n",
            "11919/11919 [==============================] - 11s 913us/sample - loss: 4.9987 - accuracy: 0.1030\n",
            "Epoch 12/15\n",
            "11919/11919 [==============================] - 12s 989us/sample - loss: 4.9987 - accuracy: 0.1030\n",
            "Epoch 13/15\n",
            "11919/11919 [==============================] - 10s 863us/sample - loss: 4.9987 - accuracy: 0.1030\n",
            "Epoch 14/15\n",
            "11919/11919 [==============================] - 12s 1ms/sample - loss: 4.9987 - accuracy: 0.1030\n",
            "Epoch 15/15\n",
            "11919/11919 [==============================] - 13s 1ms/sample - loss: 4.9987 - accuracy: 0.1030\n"
          ]
        }
      ],
      "source": [
        "history = model.fit(x=np.array(img_data, np.float32), y=np.array(list(map(int,target_val)), np.float32), epochs=15)"
      ]
    },
    {
      "cell_type": "code",
      "execution_count": 12,
      "metadata": {},
      "outputs": [],
      "source": [
        "prediction_class = {0: 'bright_dune', 1: 'crater', 2: 'dark_dune', 3: 'impact_ejecta', 4: 'slope_streak'}"
      ]
    },
    {
      "cell_type": "code",
      "execution_count": 13,
      "metadata": {},
      "outputs": [],
      "source": [
        "import pickle\n",
        "model.save('models/cnn-1.h5')"
      ]
    },
    {
      "cell_type": "code",
      "execution_count": 14,
      "metadata": {},
      "outputs": [],
      "source": [
        "def findClass(image_path):\n",
        "    image_1 = cv2.imread(image_path)\n",
        "    image_1 = np.array(image_1)\n",
        "    image_1 = image_1.astype('float32')\n",
        "    image_1 /= 255\n",
        "    image_1.shape\n",
        "    prediction = model.predict(np.array([image_1], np.float32))\n",
        "    print(prediction)\n",
        "    return prediction_class[np.argmax(prediction)]"
      ]
    },
    {
      "cell_type": "code",
      "execution_count": 15,
      "metadata": {},
      "outputs": [
        {
          "name": "stdout",
          "output_type": "stream",
          "text": [
            "[[ 39.074646  37.32895   40.885967 -40.098637 -37.2124  ]]\n",
            "dark_dune\n",
            "[[ 10.401164   9.890446  11.020987 -10.728638  -9.871204]]\n",
            "dark_dune\n",
            "[[ 46.44769   44.19591   48.579365 -47.500885 -44.00422 ]]\n",
            "dark_dune\n",
            "[[ 51.157364  48.644417  53.391365 -52.269226 -48.412342]]\n",
            "dark_dune\n",
            "[[ 19.51977   18.394339  20.177359 -19.87043  -18.347044]]\n",
            "dark_dune\n"
          ]
        }
      ],
      "source": [
        "testData = [\n",
        "    r'./Datasets/test-data/bright_dune/ESP_016576_2570_RED-0061.jpg', \n",
        "    r'./Datasets/test-data/dark_dune/ESP_018334_2600_RED-0501.jpg',\n",
        "    r'./Datasets/test-data/slope_streak/ESP_011289_1950_RED-0067.jpg', \n",
        "    r'./Datasets/hirise-map-proj-v3_2/slope_streak/ESP_011289_1950_RED-0230.jpg',\n",
        "    r'./Datasets/hirise-map-proj-v3_2/crater/ESP_011425_1775_RED-0030-r90.jpg'\n",
        "]\n",
        "\n",
        "# findClass(r'./Datasets/test-data/bright_dune/ESP_016576_2570_RED-0061.jpg')\n",
        "\n",
        "for i in testData:\n",
        "    print(findClass(i))"
      ]
    }
  ],
  "metadata": {
    "accelerator": "GPU",
    "colab": {
      "collapsed_sections": [],
      "provenance": []
    },
    "kernelspec": {
      "display_name": "Python 3.7.11 ('machine_learning')",
      "language": "python",
      "name": "python3"
    },
    "language_info": {
      "codemirror_mode": {
        "name": "ipython",
        "version": 3
      },
      "file_extension": ".py",
      "mimetype": "text/x-python",
      "name": "python",
      "nbconvert_exporter": "python",
      "pygments_lexer": "ipython3",
      "version": "3.7.13 (default, Oct 19 2022, 10:19:43) [MSC v.1916 64 bit (AMD64)]"
    },
    "vscode": {
      "interpreter": {
        "hash": "72fd977071d8a325c89946734ebdd84ca04cd1ddcd4553ef7fac0759bd651065"
      }
    }
  },
  "nbformat": 4,
  "nbformat_minor": 0
}
