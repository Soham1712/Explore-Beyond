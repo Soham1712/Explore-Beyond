{
  "cells": [
    {
      "cell_type": "code",
      "execution_count": null,
      "metadata": {
        "id": "5-VJBFyIZa2M"
      },
      "outputs": [],
      "source": [
        "# !pip install tensorflow\n",
        "# !pip install keras\n",
        "# !pip install sklearn\n",
        "# !pip install theano"
      ]
    },
    {
      "cell_type": "code",
      "execution_count": 2,
      "metadata": {
        "id": "qA_f7tANYSXF"
      },
      "outputs": [
        {
          "name": "stderr",
          "output_type": "stream",
          "text": [
            "WARNING (theano.tensor.blas): Using NumPy C-API based implementation for BLAS functions.\n"
          ]
        }
      ],
      "source": [
        "import pandas as pd\n",
        "import numpy as np\n",
        "import os\n",
        "import tensorflow as tf\n",
        "import cv2\n",
        "import random\n",
        "from tensorflow import keras\n",
        "import numpy as np\n",
        "# from tensorflow.keras import layers, Dense, Input, InputLayer, Flatten\n",
        "# from tensorflow.keras.models import Sequential, Model\n",
        "\n",
        "\n",
        "from keras.models import Sequential\n",
        "from keras import layers\n",
        "from keras.layers import Dense,Input, InputLayer, Flatten\n",
        "\n",
        "\n",
        "from  matplotlib import pyplot as plt\n",
        "import matplotlib.image as mpimg\n",
        "%matplotlib inline\n",
        "\n",
        "\n",
        "\n",
        "from keras.layers.core import Dense, Activation, Dropout, Flatten\n",
        "from keras.layers.convolutional import Convolution2D, MaxPooling2D\n",
        "# from keras.optimizers import  adam\n",
        "from tensorflow.keras.optimizers import SGD,RMSprop, Adam\n",
        "\n",
        "from keras.utils import np_utils\n",
        "from sklearn.tree import DecisionTreeClassifier \n",
        "from sklearn import metrics\n",
        "from sklearn.utils import shuffle\n",
        "from sklearn.model_selection import train_test_split\n",
        "import matplotlib.image as mpimg\n",
        "import matplotlib.pyplot as plt\n",
        "import numpy as np\n",
        "import os\n",
        "import cv2\n",
        "import random \n",
        "from numpy import *\n",
        "from PIL import Image\n",
        "import theano"
      ]
    },
    {
      "cell_type": "code",
      "execution_count": 13,
      "metadata": {
        "id": "erQsYw7uVK1c"
      },
      "outputs": [],
      "source": [
        "path_test = \"./Datasets/Test/\""
      ]
    },
    {
      "cell_type": "code",
      "execution_count": 28,
      "metadata": {
        "id": "w0LNWlbvXDf_"
      },
      "outputs": [],
      "source": [
        "CATEGORIES = ['bright_dune', 'crater','dark_dune','impact','streak']"
      ]
    },
    {
      "cell_type": "code",
      "execution_count": 15,
      "metadata": {
        "id": "1L2GguX6XqpK"
      },
      "outputs": [],
      "source": [
        "training = []\n",
        "\n",
        "def createTrainingData():\n",
        "  for category in CATEGORIES:\n",
        "    path = os.path.join(path_test, category)\n",
        "    class_num = CATEGORIES.index(category)\n",
        "    for img in os.listdir(path):\n",
        "      img_array = cv2.imread(os.path.join(path,img))\n",
        "      new_array = cv2.resize(img_array, (227, 227))\n",
        "      training.append([new_array, class_num])\n",
        "      \n",
        "createTrainingData()"
      ]
    },
    {
      "cell_type": "code",
      "execution_count": 16,
      "metadata": {
        "id": "xdRTN7UKX-zZ"
      },
      "outputs": [],
      "source": [
        "random.shuffle(training)\n",
        "X = []\n",
        "y = []\n",
        "\n",
        "for features, label in training:\n",
        "  X.append(features)\n",
        "  y.append(label)\n",
        "X = np.array(X).reshape(-1, 227, 227, 3)\n",
        "y = np.array(y)"
      ]
    },
    {
      "cell_type": "code",
      "execution_count": 17,
      "metadata": {
        "colab": {
          "base_uri": "https://localhost:8080/"
        },
        "id": "91euNI6cd8Bo",
        "outputId": "5dd7cbd8-59c6-4693-a55d-fd44f0ecaf85"
      },
      "outputs": [
        {
          "data": {
            "text/plain": [
              "(970, 227, 227, 3)"
            ]
          },
          "execution_count": 17,
          "metadata": {},
          "output_type": "execute_result"
        }
      ],
      "source": [
        "X.shape"
      ]
    },
    {
      "cell_type": "code",
      "execution_count": 18,
      "metadata": {
        "id": "IqumHN-AZBka"
      },
      "outputs": [
        {
          "data": {
            "text/plain": [
              "array([2, 1, 2, 4, 1, 0, 1, 1, 0, 1, 1, 2, 2, 1, 2, 0, 1, 1, 0, 1, 1, 2,\n",
              "       2, 1, 2, 0, 0, 0, 0, 1, 2, 2, 1, 2, 2, 2, 2, 0, 1, 1, 2, 4, 1, 2,\n",
              "       1, 1, 0, 1, 0, 1, 0, 2, 1, 2, 2, 4, 2, 1, 1, 2, 1, 1, 2, 1, 0, 1,\n",
              "       2, 1, 0, 1, 1, 2, 0, 2, 1, 1, 2, 0, 0, 1, 2, 1, 1, 1, 2, 4, 4, 2,\n",
              "       1, 1, 0, 2, 2, 1, 2, 2, 0, 1, 1, 0, 2, 1, 1, 2, 1, 2, 1, 1, 2, 2,\n",
              "       2, 2, 2, 0, 2, 1, 2, 1, 1, 0, 1, 2, 1, 0, 1, 0, 1, 2, 0, 2, 4, 2,\n",
              "       2, 2, 1, 1, 1, 1, 0, 1, 2, 1, 1, 1, 2, 0, 1, 0, 1, 1, 1, 2, 1, 1,\n",
              "       1, 4, 2, 2, 2, 1, 1, 1, 2, 4, 4, 2, 1, 2, 4, 2, 2, 1, 1, 2, 0, 2,\n",
              "       2, 2, 1, 4, 4, 2, 2, 1, 2, 4, 1, 1, 1, 1, 1, 2, 1, 2, 1, 2, 1, 1,\n",
              "       2, 2, 1, 1, 1, 2, 4, 2, 1, 2, 2, 0, 4, 0, 1, 2, 4, 2, 2, 0, 2, 1,\n",
              "       1, 2, 1, 0, 1, 4, 2, 1, 1, 0, 2, 1, 0, 2, 2, 2, 1, 0, 2, 2, 2, 0,\n",
              "       0, 1, 1, 1, 2, 2, 1, 1, 1, 2, 1, 2, 1, 2, 2, 0, 1, 2, 1, 1, 0, 0,\n",
              "       2, 0, 1, 2, 2, 2, 0, 2, 2, 2, 2, 2, 0, 0, 0, 1, 2, 0, 1, 0, 0, 2,\n",
              "       0, 2, 2, 0, 1, 0, 1, 1, 2, 1, 0, 2, 2, 2, 2, 2, 0, 0, 1, 2, 0, 2,\n",
              "       2, 2, 0, 1, 2, 0, 1, 1, 1, 2, 2, 0, 2, 1, 2, 1, 0, 1, 1, 1, 1, 1,\n",
              "       0, 2, 2, 2, 2, 2, 2, 1, 2, 2, 0, 1, 1, 2, 1, 2, 2, 2, 0, 0, 2, 1,\n",
              "       2, 2, 2, 1, 0, 2, 2, 2, 1, 2, 2, 1, 1, 1, 2, 2, 0, 2, 2, 2, 1, 2,\n",
              "       1, 2, 0, 0, 0, 0, 2, 0, 2, 2, 0, 2, 2, 1, 0, 1, 2, 1, 1, 2, 2, 2,\n",
              "       1, 1, 2, 2, 1, 2, 1, 2, 0, 2, 2, 1, 0, 2, 1, 1, 0, 2, 2, 2, 2, 2,\n",
              "       1, 1, 1, 1, 2, 1, 1, 1, 2, 1, 2, 2, 1, 2, 2, 2, 2, 2, 2, 1, 0, 1,\n",
              "       1, 0, 2, 2, 0, 2, 1, 2, 2, 1, 1, 1, 1, 2, 2, 0, 0, 2, 2, 1, 1, 2,\n",
              "       4, 1, 0, 1, 2, 2, 2, 2, 1, 2, 4, 1, 2, 2, 1, 1, 1, 2, 2, 2, 2, 0,\n",
              "       2, 1, 2, 1, 2, 2, 2, 2, 0, 2, 2, 1, 0, 2, 2, 2, 0, 1, 1, 1, 2, 2,\n",
              "       2, 2, 2, 2, 1, 0, 1, 1, 1, 1, 1, 2, 2, 1, 2, 2, 1, 2, 1, 2, 1, 2,\n",
              "       0, 0, 1, 2, 1, 2, 1, 2, 2, 1, 1, 4, 1, 1, 1, 1, 1, 2, 2, 2, 2, 2,\n",
              "       0, 0, 1, 2, 0, 1, 1, 2, 2, 1, 1, 2, 2, 1, 1, 0, 4, 2, 0, 1, 1, 1,\n",
              "       2, 2, 2, 1, 2, 2, 1, 1, 1, 1, 0, 0, 2, 1, 2, 1, 1, 2, 2, 1, 0, 1,\n",
              "       2, 2, 1, 1, 2, 4, 1, 1, 2, 2, 0, 0, 1, 1, 1, 1, 0, 1, 2, 2, 2, 2,\n",
              "       2, 0, 1, 2, 2, 0, 1, 2, 2, 2, 0, 2, 2, 1, 0, 2, 2, 2, 1, 1, 2, 2,\n",
              "       0, 1, 0, 1, 2, 2, 2, 1, 2, 1, 1, 2, 0, 1, 0, 2, 2, 1, 1, 2, 1, 1,\n",
              "       0, 2, 1, 2, 2, 2, 1, 1, 1, 1, 1, 0, 2, 2, 2, 0, 2, 2, 1, 2, 2, 2,\n",
              "       1, 4, 0, 1, 2, 1, 2, 0, 2, 1, 2, 2, 1, 4, 2, 2, 2, 1, 1, 2, 1, 2,\n",
              "       1, 0, 1, 0, 2, 2, 2, 1, 2, 1, 0, 2, 0, 2, 1, 1, 2, 2, 0, 0, 1, 0,\n",
              "       4, 1, 2, 1, 2, 2, 2, 1, 1, 2, 1, 4, 1, 2, 2, 2, 2, 1, 1, 1, 0, 2,\n",
              "       2, 0, 0, 2, 2, 1, 4, 2, 2, 1, 0, 2, 1, 1, 1, 4, 2, 2, 1, 1, 0, 1,\n",
              "       1, 2, 2, 1, 4, 0, 1, 1, 1, 4, 1, 4, 2, 2, 1, 4, 1, 0, 0, 1, 1, 1,\n",
              "       2, 0, 1, 4, 2, 2, 2, 4, 1, 0, 0, 1, 2, 4, 1, 0, 2, 1, 0, 2, 2, 2,\n",
              "       1, 2, 1, 2, 1, 2, 1, 0, 0, 2, 1, 2, 2, 2, 1, 2, 2, 2, 1, 2, 1, 2,\n",
              "       1, 2, 1, 1, 2, 2, 2, 1, 1, 1, 0, 0, 2, 2, 1, 2, 1, 2, 0, 2, 0, 1,\n",
              "       2, 2, 2, 0, 1, 2, 1, 2, 1, 1, 1, 0, 1, 0, 2, 1, 2, 1, 2, 2, 2, 1,\n",
              "       1, 2, 2, 1, 1, 2, 0, 2, 2, 1, 0, 1, 2, 1, 0, 1, 2, 1, 1, 1, 4, 2,\n",
              "       2, 1, 2, 2, 2, 2, 2, 0, 2, 0, 0, 1, 2, 2, 1, 1, 0, 1, 2, 0, 1, 1,\n",
              "       0, 2, 1, 1, 1, 2, 0, 2, 0, 0, 0, 1, 1, 1, 2, 2, 2, 2, 1, 2, 1, 1,\n",
              "       2, 2, 2, 1, 1, 1, 1, 2, 1, 2, 1, 1, 1, 1, 1, 0, 1, 1, 1, 1, 4, 2,\n",
              "       2, 2])"
            ]
          },
          "execution_count": 18,
          "metadata": {},
          "output_type": "execute_result"
        }
      ],
      "source": [
        "X = X.astype('float32')\n",
        "X /= 255\n",
        "\n",
        "y"
      ]
    },
    {
      "cell_type": "code",
      "execution_count": 19,
      "metadata": {
        "id": "HJZD_k6JZEah"
      },
      "outputs": [],
      "source": [
        "X_train, X_test, y_train, y_test = train_test_split(X, y, test_size = 0.2, random_state = 4)"
      ]
    },
    {
      "cell_type": "code",
      "execution_count": 20,
      "metadata": {
        "id": "dykeQfgDa25J"
      },
      "outputs": [],
      "source": [
        "batch_size = 20\n",
        "nb_classes = 5\n",
        "nb_epochs = 10\n",
        "img_rows, img_columns = 227, 227\n",
        "img_channel = 3\n",
        "nb_filters = 32\n",
        "nb_pool = 2\n",
        "nb_conv = 3"
      ]
    },
    {
      "cell_type": "code",
      "execution_count": 21,
      "metadata": {
        "id": "-_CUO2XTbeNw"
      },
      "outputs": [],
      "source": [
        "model = tf.keras.Sequential([\n",
        "    tf.keras.layers.Conv2D(filters=96, kernel_size=(11,11), strides=(4,4), padding='same', activation=tf.nn.relu,\n",
        "                           input_shape=(227, 227, 3)),\n",
        "    tf.keras.layers.BatchNormalization(),\n",
        "    tf.keras.layers.MaxPooling2D((3, 3), strides=2),\n",
        "    tf.keras.layers.Conv2D(filters=256, kernel_size=(5,5), strides=(1,1), padding='same', activation=tf.nn.relu),\n",
        "    tf.keras.layers.BatchNormalization(),\n",
        "    tf.keras.layers.MaxPooling2D((3, 3), strides=2),\n",
        "    tf.keras.layers.Conv2D(filters=384, kernel_size=(3,3), strides=(1,1), padding='same', activation=tf.nn.relu),\n",
        "    tf.keras.layers.BatchNormalization(),\n",
        "    tf.keras.layers.Conv2D(filters=384, kernel_size=(3,3), strides=(1,1), padding='same', activation=tf.nn.relu),\n",
        "    tf.keras.layers.BatchNormalization(),\n",
        "    tf.keras.layers.Conv2D(filters=256, kernel_size=(3,3), strides=(1,1), padding='same', activation=tf.nn.relu),\n",
        "    tf.keras.layers.BatchNormalization(),\n",
        "    tf.keras.layers.MaxPooling2D((2, 2), strides=2),\n",
        "    tf.keras.layers.Flatten(),\n",
        "    tf.keras.layers.Dense(4096, activation=tf.nn.relu),\n",
        "    tf.keras.layers.Dropout(0.5),\n",
        "    tf.keras.layers.Dense(4096, activation=tf.nn.relu),\n",
        "    tf.keras.layers.Dropout(0.5),\n",
        "    tf.keras.layers.Dense(5,  activation=tf.nn.softmax)\n",
        "])\n"
      ]
    },
    {
      "cell_type": "code",
      "execution_count": 22,
      "metadata": {
        "id": "54j1N9ENbnXZ"
      },
      "outputs": [],
      "source": [
        "model.compile(optimizer='adam',loss='sparse_categorical_crossentropy',metrics=['accuracy'])"
      ]
    },
    {
      "cell_type": "code",
      "execution_count": 23,
      "metadata": {
        "id": "SJ-y8Psbb9Vs"
      },
      "outputs": [
        {
          "name": "stdout",
          "output_type": "stream",
          "text": [
            "Train on 776 samples, validate on 194 samples\n",
            "Epoch 1/10\n",
            "776/776 [==============================] - 8s 10ms/sample - loss: 2.2483 - accuracy: 0.4356 - val_loss: 1.0757 - val_accuracy: 0.5670\n",
            "Epoch 2/10\n",
            "776/776 [==============================] - 3s 4ms/sample - loss: 0.8845 - accuracy: 0.6340 - val_loss: 0.8169 - val_accuracy: 0.7062\n",
            "Epoch 3/10\n",
            "776/776 [==============================] - 3s 4ms/sample - loss: 0.5798 - accuracy: 0.8093 - val_loss: 0.7600 - val_accuracy: 0.7887\n",
            "Epoch 4/10\n",
            "776/776 [==============================] - 3s 4ms/sample - loss: 0.4632 - accuracy: 0.8454 - val_loss: 0.9832 - val_accuracy: 0.7474\n",
            "Epoch 5/10\n",
            "776/776 [==============================] - 3s 4ms/sample - loss: 0.3190 - accuracy: 0.9021 - val_loss: 0.6666 - val_accuracy: 0.8351\n",
            "Epoch 6/10\n",
            "776/776 [==============================] - 3s 4ms/sample - loss: 0.2365 - accuracy: 0.9317 - val_loss: 0.7294 - val_accuracy: 0.7784\n",
            "Epoch 7/10\n",
            "776/776 [==============================] - 3s 4ms/sample - loss: 0.2674 - accuracy: 0.9291 - val_loss: 0.9547 - val_accuracy: 0.7577\n",
            "Epoch 8/10\n",
            "776/776 [==============================] - 3s 4ms/sample - loss: 0.1072 - accuracy: 0.9729 - val_loss: 0.7250 - val_accuracy: 0.8402\n",
            "Epoch 9/10\n",
            "776/776 [==============================] - 3s 4ms/sample - loss: 0.0811 - accuracy: 0.9845 - val_loss: 0.8184 - val_accuracy: 0.8299\n",
            "Epoch 10/10\n",
            "776/776 [==============================] - 3s 4ms/sample - loss: 0.0898 - accuracy: 0.9768 - val_loss: 0.8266 - val_accuracy: 0.7887\n"
          ]
        },
        {
          "data": {
            "text/plain": [
              "<tensorflow.python.keras.callbacks.History at 0x1d407c03b48>"
            ]
          },
          "execution_count": 23,
          "metadata": {},
          "output_type": "execute_result"
        }
      ],
      "source": [
        "model.fit(X_train, y_train, batch_size = batch_size, epochs = nb_epochs, verbose = 1, validation_data = (X_test, y_test))"
      ]
    },
    {
      "cell_type": "code",
      "execution_count": 29,
      "metadata": {
        "id": "F2G7LnR3kGQy"
      },
      "outputs": [],
      "source": [
        "def findClass(image_path):\n",
        "    image_1 = cv2.imread(image_path)\n",
        "    image_1 = cv2.resize(image_1, (227, 227))\n",
        "    np.array(image_1).reshape(-1, 227, 227, 3)\n",
        "    image_1 = image_1.astype('float32')\n",
        "    image_1 /= 255 \n",
        "    prediction = model.predict(np.array([image_1], np.float32))\n",
        "    print(prediction)\n",
        "    return CATEGORIES[np.argmax(prediction)]"
      ]
    },
    {
      "cell_type": "code",
      "execution_count": 43,
      "metadata": {},
      "outputs": [
        {
          "name": "stdout",
          "output_type": "stream",
          "text": [
            "[[6.5923464e-01 2.9791936e-03 3.3561331e-01 6.4134353e-10 2.1727653e-03]]\n",
            "bright_dune\n",
            "[[9.7521893e-09 3.7194814e-06 9.9999630e-01 5.8915806e-32 7.9319514e-17]]\n",
            "dark_dune\n",
            "[[8.9790113e-03 8.4225416e-02 6.5765381e-03 5.0407500e-05 9.0016860e-01]]\n",
            "streak\n",
            "[[5.7371776e-03 2.2821629e-01 6.4701084e-03 7.2001538e-05 7.5950444e-01]]\n",
            "streak\n",
            "[[1.1776655e-02 9.4800073e-01 4.0222552e-02 3.4607275e-17 3.9581378e-09]]\n",
            "crater\n"
          ]
        }
      ],
      "source": [
        "testData = [\n",
        "    r'./Datasets/Test/bright_dune/ESP_016576_2570_RED-0061.jpg', \n",
        "    r'./Datasets/Test/dark_dune/ESP_018334_2600_RED-0501.jpg',\n",
        "    r'./Datasets/Test/streak/ESP_011289_1950_RED-0067.jpg', \n",
        "    r'./Datasets/hirise-map-proj-v3_2/slope_streak/ESP_011289_1950_RED-0230.jpg',\n",
        "    r'./Datasets/hirise-map-proj-v3_2/crater/ESP_011425_1775_RED-0030-r90.jpg'\n",
        "    ]\n",
        "\n",
        "# findClass(r'./Datasets/Test/bright_dune/ESP_016576_2570_RED-0061.jpg')\n",
        "\n",
        "for i in testData:\n",
        "    print(findClass(i))\n",
        "\n",
        "# CATEGORIES = ['bright_dune', 'crater','dark_dune','impact','streak']"
      ]
    },
    {
      "cell_type": "code",
      "execution_count": 20,
      "metadata": {},
      "outputs": [],
      "source": [
        "import pickle"
      ]
    },
    {
      "cell_type": "code",
      "execution_count": null,
      "metadata": {},
      "outputs": [],
      "source": [
        "# creates a HDF5 file 'my_model.h5'\n",
        "model.save('models/cnn.h5')\n",
        "pickle.dump( model, open( \"classification_model_v1.pickle\", \"wb\" ))"
      ]
    }
  ],
  "metadata": {
    "accelerator": "GPU",
    "colab": {
      "collapsed_sections": [],
      "provenance": []
    },
    "kernelspec": {
      "display_name": "Python 3.10.7 64-bit",
      "language": "python",
      "name": "python3"
    },
    "language_info": {
      "codemirror_mode": {
        "name": "ipython",
        "version": 3
      },
      "file_extension": ".py",
      "mimetype": "text/x-python",
      "name": "python",
      "nbconvert_exporter": "python",
      "pygments_lexer": "ipython3",
      "version": "3.10.7"
    },
    "vscode": {
      "interpreter": {
        "hash": "a9cff5a362bc38ef45d817ae74b1af54d6a076e3d773891282bce078b815ba34"
      }
    }
  },
  "nbformat": 4,
  "nbformat_minor": 0
}
