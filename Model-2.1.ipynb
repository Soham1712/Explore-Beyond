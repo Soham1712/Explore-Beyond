{
  "cells": [
    {
      "cell_type": "code",
      "execution_count": null,
      "metadata": {
        "id": "5-VJBFyIZa2M"
      },
      "outputs": [],
      "source": [
        "# !pip install tensorflow\n",
        "# !pip install keras\n",
        "# !pip install sklearn\n",
        "# !pip install theano"
      ]
    },
    {
      "cell_type": "code",
      "execution_count": 1,
      "metadata": {
        "id": "qA_f7tANYSXF"
      },
      "outputs": [
        {
          "name": "stderr",
          "output_type": "stream",
          "text": [
            "Using TensorFlow backend.\n",
            "WARNING (theano.tensor.blas): Using NumPy C-API based implementation for BLAS functions.\n"
          ]
        }
      ],
      "source": [
        "import pandas as pd\n",
        "import numpy as np\n",
        "import os\n",
        "import tensorflow as tf\n",
        "import cv2\n",
        "import random\n",
        "from tensorflow import keras\n",
        "import numpy as np\n",
        "# from tensorflow.keras import layers, Dense, Input, InputLayer, Flatten\n",
        "# from tensorflow.keras.models import Sequential, Model\n",
        "\n",
        "\n",
        "from keras.models import Sequential\n",
        "from keras import layers\n",
        "from keras.layers import Dense,Input, InputLayer, Flatten\n",
        "\n",
        "\n",
        "from  matplotlib import pyplot as plt\n",
        "import matplotlib.image as mpimg\n",
        "%matplotlib inline\n",
        "\n",
        "\n",
        "\n",
        "from keras.layers.core import Dense, Activation, Dropout, Flatten\n",
        "from keras.layers.convolutional import Convolution2D, MaxPooling2D\n",
        "# from keras.optimizers import  adam\n",
        "from tensorflow.keras.optimizers import SGD,RMSprop, Adam\n",
        "\n",
        "from keras.utils import np_utils\n",
        "from sklearn.tree import DecisionTreeClassifier \n",
        "from sklearn import metrics\n",
        "from sklearn.utils import shuffle\n",
        "from sklearn.model_selection import train_test_split\n",
        "import matplotlib.image as mpimg\n",
        "import matplotlib.pyplot as plt\n",
        "import numpy as np\n",
        "import os\n",
        "import cv2\n",
        "import random \n",
        "from numpy import *\n",
        "from PIL import Image\n",
        "import theano"
      ]
    },
    {
      "cell_type": "code",
      "execution_count": 7,
      "metadata": {
        "id": "erQsYw7uVK1c"
      },
      "outputs": [],
      "source": [
        "path_test = \"./Datasets/training-data/\""
      ]
    },
    {
      "cell_type": "code",
      "execution_count": 8,
      "metadata": {
        "id": "w0LNWlbvXDf_"
      },
      "outputs": [],
      "source": [
        "CATEGORIES = ['bright_dune', 'crater','dark_dune','impact_ejecta','slope_streak']"
      ]
    },
    {
      "cell_type": "code",
      "execution_count": 9,
      "metadata": {
        "id": "1L2GguX6XqpK"
      },
      "outputs": [],
      "source": [
        "training = []\n",
        "\n",
        "def createTrainingData():\n",
        "  for category in CATEGORIES:\n",
        "    path = os.path.join(path_test, category)\n",
        "    class_num = CATEGORIES.index(category)\n",
        "    for img in os.listdir(path):\n",
        "      img_array = cv2.imread(os.path.join(path,img))\n",
        "      new_array = cv2.resize(img_array, (227, 227))\n",
        "      training.append([new_array, class_num])\n",
        "      \n",
        "createTrainingData()"
      ]
    },
    {
      "cell_type": "code",
      "execution_count": 10,
      "metadata": {
        "id": "xdRTN7UKX-zZ"
      },
      "outputs": [],
      "source": [
        "random.shuffle(training)\n",
        "X = []\n",
        "y = []\n",
        "\n",
        "for features, label in training:\n",
        "  X.append(features)\n",
        "  y.append(label)\n",
        "X = np.array(X).reshape(-1, 227, 227, 3)\n",
        "y = np.array(y)"
      ]
    },
    {
      "cell_type": "code",
      "execution_count": 11,
      "metadata": {
        "colab": {
          "base_uri": "https://localhost:8080/"
        },
        "id": "91euNI6cd8Bo",
        "outputId": "5dd7cbd8-59c6-4693-a55d-fd44f0ecaf85"
      },
      "outputs": [
        {
          "data": {
            "text/plain": [
              "(11919, 227, 227, 3)"
            ]
          },
          "execution_count": 11,
          "metadata": {},
          "output_type": "execute_result"
        }
      ],
      "source": [
        "X.shape"
      ]
    },
    {
      "cell_type": "code",
      "execution_count": 12,
      "metadata": {
        "id": "IqumHN-AZBka"
      },
      "outputs": [
        {
          "data": {
            "text/plain": [
              "array([4, 0, 3, ..., 4, 2, 0])"
            ]
          },
          "execution_count": 12,
          "metadata": {},
          "output_type": "execute_result"
        }
      ],
      "source": [
        "X = X.astype('float32')\n",
        "X /= 255\n",
        "\n",
        "y"
      ]
    },
    {
      "cell_type": "code",
      "execution_count": 13,
      "metadata": {
        "id": "HJZD_k6JZEah"
      },
      "outputs": [],
      "source": [
        "X_train, X_test, y_train, y_test = train_test_split(X, y, test_size = 0.2, random_state = 4)"
      ]
    },
    {
      "cell_type": "code",
      "execution_count": 14,
      "metadata": {
        "id": "dykeQfgDa25J"
      },
      "outputs": [],
      "source": [
        "batch_size = 20\n",
        "nb_classes = 5\n",
        "nb_epochs = 10\n",
        "img_rows, img_columns = 227, 227\n",
        "img_channel = 3\n",
        "nb_filters = 32\n",
        "nb_pool = 2\n",
        "nb_conv = 3"
      ]
    },
    {
      "cell_type": "code",
      "execution_count": 15,
      "metadata": {
        "id": "-_CUO2XTbeNw"
      },
      "outputs": [],
      "source": [
        "model = tf.keras.Sequential([\n",
        "    tf.keras.layers.Conv2D(filters=96, kernel_size=(11,11), strides=(4,4), padding='same', activation=tf.nn.relu,\n",
        "                           input_shape=(227, 227, 3)),\n",
        "    tf.keras.layers.BatchNormalization(),\n",
        "    tf.keras.layers.MaxPooling2D((3, 3), strides=2),\n",
        "    tf.keras.layers.Conv2D(filters=256, kernel_size=(5,5), strides=(1,1), padding='same', activation=tf.nn.relu),\n",
        "    tf.keras.layers.BatchNormalization(),\n",
        "    tf.keras.layers.MaxPooling2D((3, 3), strides=2),\n",
        "    tf.keras.layers.Conv2D(filters=384, kernel_size=(3,3), strides=(1,1), padding='same', activation=tf.nn.relu),\n",
        "    tf.keras.layers.BatchNormalization(),\n",
        "    tf.keras.layers.Conv2D(filters=384, kernel_size=(3,3), strides=(1,1), padding='same', activation=tf.nn.relu),\n",
        "    tf.keras.layers.BatchNormalization(),\n",
        "    tf.keras.layers.Conv2D(filters=256, kernel_size=(3,3), strides=(1,1), padding='same', activation=tf.nn.relu),\n",
        "    tf.keras.layers.BatchNormalization(),\n",
        "    tf.keras.layers.MaxPooling2D((2, 2), strides=2),\n",
        "    tf.keras.layers.Flatten(),\n",
        "    tf.keras.layers.Dense(4096, activation=tf.nn.relu),\n",
        "    tf.keras.layers.Dropout(0.5),\n",
        "    tf.keras.layers.Dense(4096, activation=tf.nn.relu),\n",
        "    tf.keras.layers.Dropout(0.5),\n",
        "    tf.keras.layers.Dense(5,  activation=tf.nn.softmax)\n",
        "])\n"
      ]
    },
    {
      "cell_type": "code",
      "execution_count": 16,
      "metadata": {
        "id": "54j1N9ENbnXZ"
      },
      "outputs": [],
      "source": [
        "model.compile(optimizer='adam',loss='sparse_categorical_crossentropy',metrics=['accuracy'])"
      ]
    },
    {
      "cell_type": "code",
      "execution_count": 17,
      "metadata": {
        "id": "SJ-y8Psbb9Vs"
      },
      "outputs": [
        {
          "name": "stdout",
          "output_type": "stream",
          "text": [
            "Train on 9535 samples, validate on 2384 samples\n",
            "Epoch 1/10\n",
            "9535/9535 [==============================] - 52s 5ms/sample - loss: 3.7109 - accuracy: 0.5721 - val_loss: 1.5428 - val_accuracy: 0.4698\n",
            "Epoch 2/10\n",
            "9535/9535 [==============================] - 41s 4ms/sample - loss: 1.2737 - accuracy: 0.6327 - val_loss: 1.6343 - val_accuracy: 0.4572\n",
            "Epoch 3/10\n",
            "9535/9535 [==============================] - 40s 4ms/sample - loss: 0.9806 - accuracy: 0.7053 - val_loss: 2.4515 - val_accuracy: 0.5285\n",
            "Epoch 4/10\n",
            "9535/9535 [==============================] - 40s 4ms/sample - loss: 0.7240 - accuracy: 0.7662 - val_loss: 0.8662 - val_accuracy: 0.7282\n",
            "Epoch 5/10\n",
            "9535/9535 [==============================] - 41s 4ms/sample - loss: 0.6162 - accuracy: 0.8004 - val_loss: 0.7876 - val_accuracy: 0.7286\n",
            "Epoch 6/10\n",
            "9535/9535 [==============================] - 41s 4ms/sample - loss: 0.5097 - accuracy: 0.8306 - val_loss: 0.5456 - val_accuracy: 0.8339\n",
            "Epoch 7/10\n",
            "9535/9535 [==============================] - 41s 4ms/sample - loss: 0.4585 - accuracy: 0.8486 - val_loss: 0.5828 - val_accuracy: 0.7919\n",
            "Epoch 8/10\n",
            "9535/9535 [==============================] - 44s 5ms/sample - loss: 0.4140 - accuracy: 0.8605 - val_loss: 0.5408 - val_accuracy: 0.8372\n",
            "Epoch 9/10\n",
            "9535/9535 [==============================] - 44s 5ms/sample - loss: 0.3893 - accuracy: 0.8710 - val_loss: 0.5173 - val_accuracy: 0.8196\n",
            "Epoch 10/10\n",
            "9535/9535 [==============================] - 41s 4ms/sample - loss: 0.3509 - accuracy: 0.8853 - val_loss: 0.4075 - val_accuracy: 0.8679\n"
          ]
        },
        {
          "data": {
            "text/plain": [
              "<tensorflow.python.keras.callbacks.History at 0x21bd4d8f7c8>"
            ]
          },
          "execution_count": 17,
          "metadata": {},
          "output_type": "execute_result"
        }
      ],
      "source": [
        "model.fit(X_train, y_train, batch_size = batch_size, epochs = nb_epochs, verbose = 1, validation_data = (X_test, y_test))"
      ]
    },
    {
      "cell_type": "code",
      "execution_count": 24,
      "metadata": {},
      "outputs": [
        {
          "name": "stdout",
          "output_type": "stream",
          "text": [
            "Test Loss:  0.4075072174704315\n",
            "Test Accuracy:  0.86786914\n"
          ]
        }
      ],
      "source": [
        "score = model.evaluate(X_test, y_test, verbose = 0 )\n",
        "print(\"Test Loss: \", score[0])\n",
        "print(\"Test Accuracy: \", score[1])"
      ]
    },
    {
      "cell_type": "code",
      "execution_count": 18,
      "metadata": {
        "id": "F2G7LnR3kGQy"
      },
      "outputs": [],
      "source": [
        "def findClass(image_path):\n",
        "    image_1 = cv2.imread(image_path)\n",
        "    image_1 = cv2.resize(image_1, (227, 227))\n",
        "    np.array(image_1).reshape(-1, 227, 227, 3)\n",
        "    image_1 = image_1.astype('float32')\n",
        "    image_1 /= 255 \n",
        "    prediction = model.predict(np.array([image_1], np.float32))\n",
        "    print(prediction)\n",
        "    return CATEGORIES[np.argmax(prediction)]"
      ]
    },
    {
      "cell_type": "code",
      "execution_count": 20,
      "metadata": {},
      "outputs": [
        {
          "name": "stdout",
          "output_type": "stream",
          "text": [
            "[[0.6199938  0.15098467 0.00324011 0.00116524 0.22461616]]\n",
            "bright_dune\n",
            "[[3.6552537e-05 1.1862278e-01 8.5816234e-01 3.4936951e-04 2.2828998e-02]]\n",
            "dark_dune\n",
            "[[1.1381949e-04 2.3087643e-03 4.3160941e-05 1.6792252e-05 9.9751747e-01]]\n",
            "slope_streak\n",
            "[[1.0389861e-04 8.0087222e-04 4.1617048e-07 7.6607947e-08 9.9909472e-01]]\n",
            "slope_streak\n",
            "[[4.9574976e-04 7.7928525e-01 1.3917187e-01 2.6682983e-03 7.8378960e-02]]\n",
            "crater\n"
          ]
        }
      ],
      "source": [
        "testData = [\n",
        "    r'./Datasets/test-data/bright_dune/ESP_016576_2570_RED-0061.jpg', \n",
        "    r'./Datasets/test-data/dark_dune/ESP_018334_2600_RED-0501.jpg',\n",
        "    r'./Datasets/test-data/slope_streak/ESP_011289_1950_RED-0067.jpg', \n",
        "    r'./Datasets/hirise-map-proj-v3_2/slope_streak/ESP_011289_1950_RED-0230.jpg',\n",
        "    r'./Datasets/hirise-map-proj-v3_2/crater/ESP_011425_1775_RED-0030-r90.jpg'\n",
        "]\n",
        "\n",
        "for i in testData:\n",
        "    print(findClass(i))"
      ]
    },
    {
      "cell_type": "code",
      "execution_count": 21,
      "metadata": {},
      "outputs": [],
      "source": [
        "# creates a HDF5 file 'my_model.h5'\n",
        "model.save('models/cnn3.h5')\n",
        "# pickle.dump( model, open( \"classification_model_v2.pickle\", \"wb\" ))"
      ]
    },
    {
      "cell_type": "code",
      "execution_count": null,
      "metadata": {},
      "outputs": [],
      "source": []
    }
  ],
  "metadata": {
    "accelerator": "GPU",
    "colab": {
      "collapsed_sections": [],
      "provenance": []
    },
    "kernelspec": {
      "display_name": "Python 3.7.11 ('machine_learning')",
      "language": "python",
      "name": "python3"
    },
    "language_info": {
      "codemirror_mode": {
        "name": "ipython",
        "version": 3
      },
      "file_extension": ".py",
      "mimetype": "text/x-python",
      "name": "python",
      "nbconvert_exporter": "python",
      "pygments_lexer": "ipython3",
      "version": "3.7.11"
    },
    "vscode": {
      "interpreter": {
        "hash": "72fd977071d8a325c89946734ebdd84ca04cd1ddcd4553ef7fac0759bd651065"
      }
    }
  },
  "nbformat": 4,
  "nbformat_minor": 0
}
